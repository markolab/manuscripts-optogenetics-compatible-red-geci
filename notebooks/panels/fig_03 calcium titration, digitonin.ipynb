{
 "cells": [
  {
   "cell_type": "code",
   "execution_count": 1,
   "id": "681492e6-74f4-4ca6-90e0-573abfd067ac",
   "metadata": {},
   "outputs": [],
   "source": [
    "%load_ext autoreload\n",
    "%autoreload 2\n",
    "%matplotlib inline"
   ]
  },
  {
   "cell_type": "code",
   "execution_count": 2,
   "id": "a32fb149-2422-44b3-ba0d-1b9feafde34d",
   "metadata": {},
   "outputs": [],
   "source": [
    "import natsort.natsort as ns\n",
    "import difflib\n",
    "import matplotlib.pyplot as plt\n",
    "import os\n",
    "import numpy as np\n",
    "import pandas as pd\n",
    "import seaborn as sns\n",
    "import re\n",
    "import nd2\n",
    "import warnings\n",
    "from skimage.measure import regionprops_table\n",
    "from tqdm.auto import tqdm\n",
    "from cellpose import models\n",
    "from pystackreg import StackReg\n",
    "from glob import glob\n",
    "from sklearn.metrics import r2_score\n",
    "from calcium_imaging_analysis.fig import setup_plotting_env, pal"
   ]
  },
  {
   "cell_type": "code",
   "execution_count": 3,
   "id": "f428772c-5a24-4bf7-b0b0-5db70dedf710",
   "metadata": {},
   "outputs": [],
   "source": [
    "def nd2_metadata_parse(img, use_metadata_timesteps=True):\n",
    "    # get\n",
    "    wells = []\n",
    "    phase_lens = []\n",
    "    with nd2.ND2File(img) as f:\n",
    "        for _experiment in f.experiment:\n",
    "            if _experiment.type == \"NETimeLoop\":\n",
    "                phase_lens = [_.count for _ in _experiment.parameters.periods]\n",
    "            elif _experiment.type == \"XYPosLoop\":\n",
    "                wells = [_.name for _ in _experiment.parameters.points]\n",
    "                well_scan = True\n",
    "        channel_names = [_.channel.name for _ in f.metadata.channels]\n",
    "        events = f.events()\n",
    "        dim_sizes = dict(f.sizes)\n",
    "\n",
    "    return_dct = {\n",
    "        \"dim_sizes\": dim_sizes,\n",
    "        \"channel_names\": channel_names,\n",
    "        \"wells\": wells,\n",
    "        \"events\": events,\n",
    "    }\n",
    "    return return_dct"
   ]
  },
  {
   "cell_type": "code",
   "execution_count": 4,
   "id": "0f6ac465-c54d-438b-9561-98b38c0681e7",
   "metadata": {
    "tags": []
   },
   "outputs": [],
   "source": [
    "from matplotlib.colors import LinearSegmentedColormap, ListedColormap\n",
    "\n",
    "colors = [(0, 0, 0), (1, 0, 0)]  # cmap goes from black (0, 0, 0) to red (1, 0, 0)\n",
    "fluo_cmap = LinearSegmentedColormap.from_list(\"Custom\", colors, N=256)\n",
    "\n",
    "colors = [(0, 0, 0), (0, 1, 0)]  # cmap goes from black (0, 0, 0) to red (1, 0, 0)\n",
    "fluo_ref_cmap = LinearSegmentedColormap.from_list(\"Custom\", colors, N=256)"
   ]
  },
  {
   "cell_type": "code",
   "execution_count": 5,
   "id": "38ec90b1-70c9-4af1-bf62-fa5a3e1b05cc",
   "metadata": {},
   "outputs": [],
   "source": [
    "fig_dir = \"/storage/home/hcoda1/4/jmarkowitz30/shared_folder/active_lab_members/markowitz_jeffrey/panels/2025-05 (ScarCaMP paper)/\"\n",
    "os.makedirs(fig_dir, exist_ok=True)\n",
    "\n",
    "input_dir = \"/storage/home/hcoda1/4/jmarkowitz30/shared_folder/active_lab_members/markowitz_jeffrey/active_projects/red_calcium_screen/for_paper/invitro_titration/\""
   ]
  },
  {
   "cell_type": "code",
   "execution_count": 6,
   "id": "beeb1c24-0f09-40b6-993d-5109ec79e485",
   "metadata": {
    "tags": []
   },
   "outputs": [],
   "source": [
    "label_cmap = ListedColormap(np.random.rand(50, 3))\n",
    "label_cmap.set_bad([0, 0, 0])"
   ]
  },
  {
   "cell_type": "code",
   "execution_count": 7,
   "id": "11a80654-81f9-42bb-b6c6-43edbb1e801f",
   "metadata": {
    "tags": []
   },
   "outputs": [],
   "source": [
    "model_eval_kwargs = {\"diameter\": 80, \"cellprob_threshold\": 0.9, \"channels\": [[0, 0]]}"
   ]
  },
  {
   "cell_type": "code",
   "execution_count": 8,
   "id": "e045e3de-84d4-4d9c-9e85-c1d6c4be90f1",
   "metadata": {},
   "outputs": [],
   "source": [
    "channel_possibilites = [\"fitc\", \"tritc\"]\n",
    "\n",
    "regexes = {\n",
    "    \"calcium\": r\"\\_C[a]*([0-9|\\.]+)\\_\",\n",
    "    \"time\": r\"\\_([0-9]+)min\\_\",\n",
    "    \"channel\": r\"\\_([A-Z|a-z]+)\\.nd2\",\n",
    "    \"well\": r\"^([a-z|A-Z]\\.[0-9]+)\\`_\",\n",
    "}\n",
    "regexes = {k: re.compile(_re) for k, _re in regexes.items()}"
   ]
  },
  {
   "cell_type": "code",
   "execution_count": 9,
   "id": "461f7680-2888-4724-8743-e4adcb3b7570",
   "metadata": {},
   "outputs": [],
   "source": [
    "chk_dirs = ns.natsorted(\n",
    "    [os.path.join(input_dir, _obj) for _obj in os.listdir(input_dir) if os.path.isdir(os.path.join(input_dir, _obj))]\n",
    ")"
   ]
  },
  {
   "cell_type": "code",
   "execution_count": 10,
   "id": "600f6f17-b796-45e6-b787-c63936442cfa",
   "metadata": {},
   "outputs": [],
   "source": [
    "chk_dirs = chk_dirs[-2:]"
   ]
  },
  {
   "cell_type": "code",
   "execution_count": 11,
   "id": "6894d2ac-44ab-4172-9f08-9e74e8fc3c5a",
   "metadata": {},
   "outputs": [
    {
     "data": {
      "application/vnd.jupyter.widget-view+json": {
       "model_id": "9fd357a917434c7f93050d3405f3af88",
       "version_major": 2,
       "version_minor": 0
      },
      "text/plain": [
       "  0%|          | 0/2 [00:00<?, ?it/s]"
      ]
     },
     "metadata": {},
     "output_type": "display_data"
    },
    {
     "name": "stdout",
     "output_type": "stream",
     "text": [
      "No wells found in /storage/home/hcoda1/4/jmarkowitz30/shared_folder/active_lab_members/markowitz_jeffrey/active_projects/red_calcium_screen/for_paper/invitro_titration/2025-03-21 Ca titration continuing...\n",
      "No wells found in /storage/home/hcoda1/4/jmarkowitz30/shared_folder/active_lab_members/markowitz_jeffrey/active_projects/red_calcium_screen/for_paper/invitro_titration/2025-03-25 Ca titration continuing...\n"
     ]
    }
   ],
   "source": [
    "for _chk_dir in tqdm(chk_dirs):\n",
    "\n",
    "    nd2s = glob(os.path.join(_chk_dir, \"*.nd2\"))\n",
    "    try:\n",
    "        wells = [regexes[\"well\"].search(os.path.basename(_nd2)).groups(0)[0] for _nd2 in nd2s]\n",
    "    except AttributeError:\n",
    "        print(f\"No wells found in {_chk_dir} continuing...\")\n",
    "        continue\n",
    "\n",
    "    uniq_wells = ns.natsorted(list(set(wells)))\n",
    "\n",
    "    for _chk_well in tqdm(uniq_wells):\n",
    "        parquet_fname = os.path.join(_chk_dir, f\"{_chk_well}.parquet\")\n",
    "\n",
    "        if os.path.exists(parquet_fname):\n",
    "            print(f\"{parquet_fname} already exists, continuing\")\n",
    "            continue\n",
    "\n",
    "        files = [_nd2 for _nd2, _well in zip(nd2s, wells) if _well == _chk_well]\n",
    "        base_files = [os.path.basename(_file) for _file in files]\n",
    "\n",
    "        all_metadata = []\n",
    "        for i, _file in enumerate(files):\n",
    "            base_file = os.path.basename(_file)\n",
    "            # get metadata\n",
    "            metadata = {}\n",
    "            metadata[\"path\"] = _file\n",
    "            for k, v in regexes.items():\n",
    "                metadata[k] = v.search(base_file).groups(0)[0]\n",
    "                try:\n",
    "                    metadata[k] = float(metadata[k])\n",
    "                except ValueError:\n",
    "                    pass\n",
    "            metadata[\"channel\"] = difflib.get_close_matches(metadata[\"channel\"].lower(), channel_possibilites)[\n",
    "                0\n",
    "            ].upper()\n",
    "            all_metadata.append(metadata)\n",
    "\n",
    "        metadata = nd2_metadata_parse(files[0])\n",
    "\n",
    "        # format this into some kind of ndarray to make this simpler...\n",
    "        uniq_times = np.unique([_mdata[\"time\"] for _mdata in all_metadata])\n",
    "        uniq_ca = np.unique([_mdata[\"calcium\"] for _mdata in all_metadata])\n",
    "        uniq_channels = np.unique([_mdata[\"channel\"] for _mdata in all_metadata])\n",
    "\n",
    "        im_arr = np.full(\n",
    "            (\n",
    "                len(uniq_ca),\n",
    "                len(uniq_times),\n",
    "                len(uniq_channels),\n",
    "                metadata[\"dim_sizes\"][\"Y\"],\n",
    "                metadata[\"dim_sizes\"][\"X\"],\n",
    "            ),\n",
    "            fill_value=np.nan,\n",
    "        )\n",
    "\n",
    "        arrays = []\n",
    "        for _mdata in tqdm(all_metadata):\n",
    "            with nd2.ND2File(_mdata[\"path\"]) as f:\n",
    "                arr = f.asarray()\n",
    "            # get the index...\n",
    "            ca_index = np.flatnonzero(uniq_ca == _mdata[\"calcium\"])[0]\n",
    "            t_index = np.flatnonzero(uniq_times == _mdata[\"time\"])[0]\n",
    "            ch_index = np.flatnonzero(uniq_channels == _mdata[\"channel\"])[0]\n",
    "\n",
    "            im_arr[ca_index, t_index, ch_index, ...] = arr\n",
    "\n",
    "        use_timepoint = []\n",
    "        for i in range(len(uniq_ca)):\n",
    "            # count backwards\n",
    "            for j in range(len(uniq_times)):\n",
    "                if ~np.isnan(im_arr[i, -j, 0, 0, 0]):\n",
    "                    break\n",
    "            use_timepoint.append(-j)\n",
    "\n",
    "        new_arr = np.full(\n",
    "            (\n",
    "                len(uniq_ca),\n",
    "                len(uniq_channels),\n",
    "                metadata[\"dim_sizes\"][\"Y\"],\n",
    "                metadata[\"dim_sizes\"][\"X\"],\n",
    "            ),\n",
    "            fill_value=np.nan,\n",
    "        )\n",
    "\n",
    "        for i in tqdm(range(len(uniq_ca))):\n",
    "            new_arr[i] = im_arr[i, use_timepoint[i]]\n",
    "\n",
    "        # Motion Correct if needed\n",
    "\n",
    "        tf = StackReg.AFFINE\n",
    "        sr = StackReg(tf)\n",
    "        tmats = sr.register_stack(\n",
    "            new_arr[:, 0].copy(),\n",
    "            axis=0,\n",
    "            reference=\"previous\",\n",
    "            verbose=True,\n",
    "        )\n",
    "        corrected_arr = new_arr.copy()\n",
    "        for i in tqdm(range(len(uniq_channels))):\n",
    "            corrected_arr[:, i] = sr.transform_stack(corrected_arr[:, i])\n",
    "\n",
    "        max_proj = np.max(corrected_arr[:, uniq_channels == \"FITC\"], axis=0)\n",
    "\n",
    "        model = models.Cellpose(model_type=\"cyto2\")\n",
    "        masks, _, _, _ = model.eval(max_proj, **model_eval_kwargs)\n",
    "\n",
    "        aves = []\n",
    "        divs = []\n",
    "        for i in tqdm(range(len(uniq_ca))):\n",
    "            dat_channel = corrected_arr[i, uniq_channels == \"TRITC\"].squeeze()\n",
    "            ref_channel = corrected_arr[i, uniq_channels == \"FITC\"].squeeze()\n",
    "\n",
    "            cell_aves = regionprops_table(masks, intensity_image=dat_channel, properties=[\"mean_intensity\"])[\n",
    "                \"mean_intensity\"\n",
    "            ]\n",
    "            aves.append(cell_aves)\n",
    "\n",
    "            try:\n",
    "                cell_aves_ref = regionprops_table(masks, intensity_image=ref_channel, properties=[\"mean_intensity\"])[\n",
    "                    \"mean_intensity\"\n",
    "                ]\n",
    "                divs.append(cell_aves_ref)\n",
    "                # print(np.median(cell_aves / (cell_aves_ref + 50)))\n",
    "            except (ValueError, KeyError):\n",
    "                pass\n",
    "\n",
    "        if len(aves) == 0:\n",
    "            continue\n",
    "\n",
    "        aves = np.array(aves)\n",
    "        divs = np.array(divs)\n",
    "\n",
    "        if len(divs) == 0:\n",
    "            divs = aves.copy()\n",
    "            divs[:] = np.nan\n",
    "\n",
    "        ave_df = pd.DataFrame(aves).melt(ignore_index=False, var_name=\"roi\", value_name=\"TRITC\")\n",
    "        div_df = pd.DataFrame(divs).melt(ignore_index=False, var_name=\"roi\", value_name=\"FITC\")\n",
    "\n",
    "        ave_df.index.name = \"ca_condition\"\n",
    "        div_df.index.name = \"ca_condition\"\n",
    "\n",
    "        ave_df[\"FITC\"] = div_df[\"FITC\"]\n",
    "\n",
    "        ave_df[\"well\"] = _chk_well\n",
    "        ave_df = ave_df.reset_index()\n",
    "        ave_df.to_parquet(parquet_fname)"
   ]
  },
  {
   "cell_type": "markdown",
   "id": "a6a2bd1d-fa49-4959-af15-5059eceb1980",
   "metadata": {},
   "source": [
    "# Combine processed dataframes and plot..."
   ]
  },
  {
   "cell_type": "code",
   "execution_count": 12,
   "id": "0df6a14f-e448-4426-98f7-0b050bc00445",
   "metadata": {},
   "outputs": [],
   "source": [
    "x = [\n",
    "    0,\n",
    "    0.003751,\n",
    "    0.007,\n",
    "    0.01186,\n",
    "    0.01625,\n",
    "    0.03657,\n",
    "    0.0627,\n",
    "    0.0975,\n",
    "    0.146,\n",
    "    0.219,\n",
    "    0.341,\n",
    "    0.585,\n",
    "    1.3,\n",
    "    38.6,\n",
    "]"
   ]
  },
  {
   "cell_type": "code",
   "execution_count": 13,
   "id": "f51ce459-5fad-4409-9350-f08b7ac0bd87",
   "metadata": {},
   "outputs": [],
   "source": [
    "load_files = []"
   ]
  },
  {
   "cell_type": "code",
   "execution_count": 14,
   "id": "bd6ec7d2-6863-4088-a8f9-721c0635ffa9",
   "metadata": {},
   "outputs": [],
   "source": [
    "for _dir in chk_dirs:\n",
    "    load_files += glob(os.path.join(_dir, \"[A|B].*.parquet\"))"
   ]
  },
  {
   "cell_type": "code",
   "execution_count": 15,
   "id": "fdbf59d6-9e35-455b-b8d8-194e54978750",
   "metadata": {},
   "outputs": [
    {
     "data": {
      "application/vnd.jupyter.widget-view+json": {
       "model_id": "431a34a2e4bd4668baff46a4bbb2e5ff",
       "version_major": 2,
       "version_minor": 0
      },
      "text/plain": [
       "  0%|          | 0/6 [00:00<?, ?it/s]"
      ]
     },
     "metadata": {},
     "output_type": "display_data"
    }
   ],
   "source": [
    "dfs = []\n",
    "roi_count = 0\n",
    "for _file in tqdm(load_files):\n",
    "    _df = pd.read_parquet(_file)\n",
    "    _df[\"roi\"] += roi_count\n",
    "    roi_count = _df[\"roi\"].max()\n",
    "    topdir = os.path.basename(os.path.dirname(_file))\n",
    "    session = topdir.split(\" \")[0]\n",
    "    _df[\"session\"] = session\n",
    "    dfs.append(_df)\n",
    "use_df = pd.concat(dfs, ignore_index=True)"
   ]
  },
  {
   "cell_type": "code",
   "execution_count": 16,
   "id": "b9ed5514-17b3-42ba-8db7-6c78ad09fdcc",
   "metadata": {},
   "outputs": [],
   "source": [
    "use_df[\"ratio\"] = use_df[\"TRITC\"] / use_df[\"FITC\"]"
   ]
  },
  {
   "cell_type": "code",
   "execution_count": 17,
   "id": "968626da-9687-4b0d-83e7-3ba4d0fbc9af",
   "metadata": {},
   "outputs": [],
   "source": [
    "min_fluorescence = 200\n",
    "max_fitc_change_p = 0.1\n",
    "max_ratio_change_p = 1\n",
    "min_ratio_change_p = 0.1"
   ]
  },
  {
   "cell_type": "code",
   "execution_count": 18,
   "id": "25980432-2295-4738-8bd8-ae7664951124",
   "metadata": {},
   "outputs": [],
   "source": [
    "new_df = use_df.copy()\n",
    "new_df[\"roi_tuple\"] = new_df[[\"session\", \"well\", \"roi\"]].apply(tuple, axis=1)\n",
    "new_df[\"roi_code\"] = pd.factorize(new_df[\"roi_tuple\"])[0]\n",
    "new_df = new_df.groupby(\"roi_code\").filter(\n",
    "    lambda x: (x[\"TRITC\"].min() > min_fluorescence) & (x[\"FITC\"].min() > min_fluorescence)\n",
    ")\n",
    "new_df = new_df.groupby(\"roi_code\").filter(\n",
    "    lambda x: ((x[\"FITC\"].max() - x[\"FITC\"].min()) / x[\"FITC\"].max()) < max_fitc_change_p\n",
    ")\n",
    "new_df = new_df.groupby(\"roi_code\").filter(\n",
    "    lambda x: ((x[\"ratio\"].max() - x[\"ratio\"].min()) / x[\"ratio\"].max()) < max_ratio_change_p\n",
    ")\n",
    "new_df = new_df.groupby(\"roi_code\").filter(\n",
    "    lambda x: ((x[\"ratio\"].max() - x[\"ratio\"].min()) / x[\"ratio\"].max()) > min_ratio_change_p\n",
    ")"
   ]
  },
  {
   "cell_type": "code",
   "execution_count": 19,
   "id": "8edb05eb-fce3-45dd-9dcc-9fbfa73e79ff",
   "metadata": {},
   "outputs": [],
   "source": [
    "new_df[\"ratio_minmax\"] = new_df.groupby(\"roi_code\")[\"ratio\"].transform(lambda x: (x - x.min()) / (x.max() - x.min()))\n",
    "new_df[\"tritc_minmax\"] = new_df.groupby(\"roi_code\")[\"TRITC\"].transform(lambda x: (x - x.min()) / (x.max() - x.min()))"
   ]
  },
  {
   "cell_type": "code",
   "execution_count": 20,
   "id": "5bc426bd-e95a-431e-adb1-3820c62d27f6",
   "metadata": {},
   "outputs": [],
   "source": [
    "concentration_map = {i: concentration for i, concentration in enumerate(x)}"
   ]
  },
  {
   "cell_type": "code",
   "execution_count": 21,
   "id": "80baa37e-d95e-46e3-a6ed-6ae242d60625",
   "metadata": {},
   "outputs": [],
   "source": [
    "new_df[\"ca_concentration\"] = new_df[\"ca_condition\"].map(concentration_map)"
   ]
  },
  {
   "cell_type": "code",
   "execution_count": 22,
   "id": "5fa6d41f-07cd-4c09-9c20-065649936bd5",
   "metadata": {},
   "outputs": [],
   "source": [
    "from scipy.optimize import least_squares"
   ]
  },
  {
   "cell_type": "code",
   "execution_count": 23,
   "id": "2f4f18a5-b2fc-40e1-bb05-866fffb1b198",
   "metadata": {},
   "outputs": [],
   "source": [
    "def hill_func(x, top, bottom, ic50, slope):\n",
    "    return bottom + (top - bottom) / (np.power((x / ic50), slope) + 1)"
   ]
  },
  {
   "cell_type": "code",
   "execution_count": 24,
   "id": "047cc4d7-e904-4bf9-a162-25d3bda61c75",
   "metadata": {},
   "outputs": [],
   "source": [
    "# Residuals function for least squares\n",
    "def residuals(params, x, y_obs):\n",
    "    with warnings.catch_warnings():\n",
    "        warnings.simplefilter(\"ignore\")\n",
    "        y_pred = hill_func(x, *params)\n",
    "    return y_pred - y_obs"
   ]
  },
  {
   "cell_type": "code",
   "execution_count": 25,
   "id": "1dac1821-a1ee-4c5b-b1a8-275cbc76e664",
   "metadata": {},
   "outputs": [],
   "source": [
    "def get_fit(df, x=\"ca_concentration\", y=\"ratio_minmax\", exclude_zero=False):\n",
    "\n",
    "    X, Y = df[x].to_numpy(), df[y].to_numpy()\n",
    "    if exclude_zero:\n",
    "        excl = X == 0\n",
    "        X = X[~excl]\n",
    "        Y = Y[~excl]\n",
    "\n",
    "    initial_guess = [max(Y), min(Y), np.median(X), 1.0]\n",
    "    result = least_squares(residuals, initial_guess, args=(X, Y), loss=\"linear\")\n",
    "    popt = result.x\n",
    "    rsquared = r2_score(hill_func(X, *popt), Y)\n",
    "    params = {\"top\": popt[0], \"bottom\": popt[1], \"ic50\": popt[2], \"hill_coef\": popt[3], \"r2\": rsquared}\n",
    "    return params"
   ]
  },
  {
   "cell_type": "code",
   "execution_count": 26,
   "id": "3c5464f2-c54f-475a-bb3f-cd1aceaf1b1b",
   "metadata": {},
   "outputs": [],
   "source": [
    "fit_df = new_df.groupby([\"session\", \"well\"]).filter(lambda x: x[\"roi\"].nunique() > 10)"
   ]
  },
  {
   "cell_type": "code",
   "execution_count": 28,
   "id": "9707ccdc-1e84-402d-8f49-bf8801d1029c",
   "metadata": {},
   "outputs": [
    {
     "data": {
      "text/plain": [
       "well  session   \n",
       "A.4   2025-03-21    11\n",
       "      2025-03-25    64\n",
       "A.5   2025-03-21    33\n",
       "B.3   2025-03-25    69\n",
       "B.4   2025-03-25    77\n",
       "B.5   2025-03-21    16\n",
       "Name: roi, dtype: int64"
      ]
     },
     "execution_count": 28,
     "metadata": {},
     "output_type": "execute_result"
    }
   ],
   "source": [
    "fit_df.groupby([\"well\", \"session\"])[\"roi\"].nunique()"
   ]
  },
  {
   "cell_type": "code",
   "execution_count": 29,
   "id": "2db28e76-61cb-47b4-b03a-ebcf96519d44",
   "metadata": {},
   "outputs": [],
   "source": [
    "# fit per group...\n",
    "fit_results_df = fit_df.groupby([\"well\", \"session\"]).apply(get_fit, include_groups=False)\n",
    "fit_results_df = fit_results_df.apply(pd.Series)"
   ]
  },
  {
   "cell_type": "code",
   "execution_count": 31,
   "id": "9d46ef89-2c12-4e12-8411-5e77294145e2",
   "metadata": {},
   "outputs": [],
   "source": [
    "params_mean = fit_results_df.mean()\n",
    "params_ci = fit_results_df.std()"
   ]
  },
  {
   "cell_type": "code",
   "execution_count": 32,
   "id": "5b104ad9-9491-43e1-b157-1a49051d3b18",
   "metadata": {},
   "outputs": [],
   "source": [
    "latex_codes = {\n",
    "    \"r2\": r\"$\\mathrm{{R}}^2$\",\n",
    "    \"ic50\": r\"$\\mathrm{{IC}}_{{50}}$\",\n",
    "    \"hill_coef\": r\"$\\mathcal{{n}}$\",\n",
    "    \"top\": r\"$\\mathrm{{max}}$\",\n",
    "    \"bottom\": r\"$\\mathrm{{min}}$\",\n",
    "}"
   ]
  },
  {
   "cell_type": "code",
   "execution_count": 33,
   "id": "498e55e8-e7b6-427a-9813-fff1d011bfef",
   "metadata": {},
   "outputs": [],
   "source": [
    "use_string = \"\"\n",
    "for _param in params_mean.keys():\n",
    "    use_code = latex_codes[_param]\n",
    "    use_string += use_code + f\" = {params_mean[_param]:.3f} \" + rf\"$\\pm$ {params_ci[_param]:.3f}\"\n",
    "    use_string += \"\\n\""
   ]
  },
  {
   "cell_type": "code",
   "execution_count": 34,
   "id": "34135925-a493-48a3-a9ad-c9c553295e3d",
   "metadata": {},
   "outputs": [],
   "source": [
    "eval_points = np.linspace(0, 60, 1000)"
   ]
  },
  {
   "cell_type": "code",
   "execution_count": 35,
   "id": "92451397-955e-49d5-b28f-7643d3301689",
   "metadata": {},
   "outputs": [],
   "source": [
    "top = hill_func(eval_points, *(params_mean + params_ci).iloc[:4])\n",
    "bottom = hill_func(eval_points, *(params_mean - params_ci).iloc[:4])"
   ]
  },
  {
   "cell_type": "code",
   "execution_count": 36,
   "id": "03be223a-0e00-46bb-8280-dd7f67546bf6",
   "metadata": {},
   "outputs": [],
   "source": [
    "plt.rcParams[\"figure.dpi\"] = 200"
   ]
  },
  {
   "cell_type": "code",
   "execution_count": 37,
   "id": "56d928eb-f768-470d-9144-f7405b7a9a55",
   "metadata": {},
   "outputs": [
    {
     "data": {
      "text/html": [
       "<div>\n",
       "<style scoped>\n",
       "    .dataframe tbody tr th:only-of-type {\n",
       "        vertical-align: middle;\n",
       "    }\n",
       "\n",
       "    .dataframe tbody tr th {\n",
       "        vertical-align: top;\n",
       "    }\n",
       "\n",
       "    .dataframe thead th {\n",
       "        text-align: right;\n",
       "    }\n",
       "</style>\n",
       "<table border=\"1\" class=\"dataframe\">\n",
       "  <thead>\n",
       "    <tr style=\"text-align: right;\">\n",
       "      <th></th>\n",
       "      <th></th>\n",
       "      <th>top</th>\n",
       "      <th>bottom</th>\n",
       "      <th>ic50</th>\n",
       "      <th>hill_coef</th>\n",
       "      <th>r2</th>\n",
       "    </tr>\n",
       "    <tr>\n",
       "      <th>well</th>\n",
       "      <th>session</th>\n",
       "      <th></th>\n",
       "      <th></th>\n",
       "      <th></th>\n",
       "      <th></th>\n",
       "      <th></th>\n",
       "    </tr>\n",
       "  </thead>\n",
       "  <tbody>\n",
       "    <tr>\n",
       "      <th rowspan=\"2\" valign=\"top\">A.4</th>\n",
       "      <th>2025-03-21</th>\n",
       "      <td>1.006725</td>\n",
       "      <td>0.041859</td>\n",
       "      <td>0.027315</td>\n",
       "      <td>0.876816</td>\n",
       "      <td>0.926578</td>\n",
       "    </tr>\n",
       "    <tr>\n",
       "      <th>2025-03-25</th>\n",
       "      <td>1.005061</td>\n",
       "      <td>0.001987</td>\n",
       "      <td>0.024721</td>\n",
       "      <td>0.689331</td>\n",
       "      <td>0.932249</td>\n",
       "    </tr>\n",
       "    <tr>\n",
       "      <th>A.5</th>\n",
       "      <th>2025-03-21</th>\n",
       "      <td>0.954732</td>\n",
       "      <td>0.040269</td>\n",
       "      <td>0.021293</td>\n",
       "      <td>1.071891</td>\n",
       "      <td>0.860690</td>\n",
       "    </tr>\n",
       "    <tr>\n",
       "      <th>B.3</th>\n",
       "      <th>2025-03-25</th>\n",
       "      <td>0.992305</td>\n",
       "      <td>-0.052320</td>\n",
       "      <td>0.046374</td>\n",
       "      <td>0.449132</td>\n",
       "      <td>0.774896</td>\n",
       "    </tr>\n",
       "    <tr>\n",
       "      <th>B.4</th>\n",
       "      <th>2025-03-25</th>\n",
       "      <td>0.955862</td>\n",
       "      <td>-0.031061</td>\n",
       "      <td>0.078942</td>\n",
       "      <td>0.723580</td>\n",
       "      <td>0.929919</td>\n",
       "    </tr>\n",
       "    <tr>\n",
       "      <th>B.5</th>\n",
       "      <th>2025-03-21</th>\n",
       "      <td>0.886157</td>\n",
       "      <td>0.075128</td>\n",
       "      <td>0.051635</td>\n",
       "      <td>1.385553</td>\n",
       "      <td>0.877704</td>\n",
       "    </tr>\n",
       "  </tbody>\n",
       "</table>\n",
       "</div>"
      ],
      "text/plain": [
       "                      top    bottom      ic50  hill_coef        r2\n",
       "well session                                                      \n",
       "A.4  2025-03-21  1.006725  0.041859  0.027315   0.876816  0.926578\n",
       "     2025-03-25  1.005061  0.001987  0.024721   0.689331  0.932249\n",
       "A.5  2025-03-21  0.954732  0.040269  0.021293   1.071891  0.860690\n",
       "B.3  2025-03-25  0.992305 -0.052320  0.046374   0.449132  0.774896\n",
       "B.4  2025-03-25  0.955862 -0.031061  0.078942   0.723580  0.929919\n",
       "B.5  2025-03-21  0.886157  0.075128  0.051635   1.385553  0.877704"
      ]
     },
     "execution_count": 37,
     "metadata": {},
     "output_type": "execute_result"
    }
   ],
   "source": [
    "fit_results_df"
   ]
  },
  {
   "cell_type": "code",
   "execution_count": 38,
   "id": "2607eaf7-316c-47e5-96b0-52e9eb824615",
   "metadata": {},
   "outputs": [
    {
     "data": {
      "text/plain": [
       "top          0.966807\n",
       "bottom       0.012644\n",
       "ic50         0.041713\n",
       "hill_coef    0.866051\n",
       "r2           0.883673\n",
       "dtype: float64"
      ]
     },
     "execution_count": 38,
     "metadata": {},
     "output_type": "execute_result"
    }
   ],
   "source": [
    "params_mean"
   ]
  },
  {
   "cell_type": "code",
   "execution_count": 39,
   "id": "43430399-7326-4afd-893d-7e753403539e",
   "metadata": {},
   "outputs": [],
   "source": [
    "setup_plotting_env()"
   ]
  },
  {
   "cell_type": "code",
   "execution_count": 40,
   "id": "15723d2c-cebb-4e6c-b738-98573659ae1d",
   "metadata": {},
   "outputs": [
    {
     "data": {
      "image/png": "[encoded data removed]",
      "text/plain": [
       "<Figure size 380x320 with 1 Axes>"
      ]
     },
     "metadata": {},
     "output_type": "display_data"
    }
   ],
   "source": [
    "fig, ax = plt.subplots(1, figsize=(1.9, 1.6))\n",
    "sns.scatterplot(\n",
    "    data=new_df,\n",
    "    # hue=\"session\",\n",
    "    x=\"ca_concentration\",\n",
    "    y=\"ratio_minmax\",\n",
    "    alpha=0.05,\n",
    ")\n",
    "ax.set_xlabel(r\"$\\left[\\mathrm{Ca}^{2+} \\mathrm{µM}\\right]$\")\n",
    "ax.set_ylabel(\"TRITC / FITC\\n(min-max normalized)\")\n",
    "ax.set_xscale(\"log\")\n",
    "\n",
    "xlims = ax.get_xlim()\n",
    "xlims_log = [np.log10(_xlim) for _xlim in xlims]\n",
    "# eval_points = np.linspace(*xlims, int(1e6))\n",
    "eval_points = np.logspace(*xlims_log, 500)\n",
    "top = hill_func(eval_points, *(params_mean + params_ci).iloc[:4])\n",
    "bottom = hill_func(eval_points, *(params_mean - params_ci).iloc[:4])\n",
    "ax.fill_between(eval_points, top, bottom, alpha=0.7, color=\"r\")\n",
    "ax.plot(eval_points, hill_func(eval_points, *params_mean.iloc[:4].values), \"r-\", marker=None, lw=2)\n",
    "\n",
    "ylims = ax.get_ylim()\n",
    "xrange = xlims[1] - xlims[0]\n",
    "yrange = ylims[1] - ylims[0]\n",
    "xpos = xlims[1] - xrange / 5\n",
    "ypos = ylims[1] - yrange / 3\n",
    "ax.text(xpos, ypos, use_string, ha=\"center\", va=\"center\", fontsize=7)\n",
    "sns.despine()\n",
    "fig.savefig(os.path.join(fig_dir, \"digitonin_results_with_fit.pdf\"), dpi=600, bbox_inches=\"tight\")"
   ]
  },
  {
   "cell_type": "code",
   "execution_count": null,
   "id": "848cc385-1cfe-4558-999b-84667063f139",
   "metadata": {},
   "outputs": [],
   "source": []
  },
  {
   "cell_type": "code",
   "execution_count": null,
   "id": "6a1a9d93-c657-4a2a-b263-30f7221b4082",
   "metadata": {},
   "outputs": [],
   "source": []
  },
  {
   "cell_type": "code",
   "execution_count": null,
   "id": "b2c18fba-5ebf-416c-b031-54a152efcb46",
   "metadata": {},
   "outputs": [],
   "source": []
  }
 ],
 "metadata": {
  "kernelspec": {
   "display_name": "Python 3 (ipykernel)",
   "language": "python",
   "name": "python3"
  },
  "language_info": {
   "codemirror_mode": {
    "name": "ipython",
    "version": 3
   },
   "file_extension": ".py",
   "mimetype": "text/x-python",
   "name": "python",
   "nbconvert_exporter": "python",
   "pygments_lexer": "ipython3",
   "version": "3.10.0"
  }
 },
 "nbformat": 4,
 "nbformat_minor": 5
}
