{
 "cells": [
  {
   "cell_type": "code",
   "execution_count": 1,
   "id": "9bd15adb-7b2e-4588-bda2-705d02c524bd",
   "metadata": {
    "tags": []
   },
   "outputs": [],
   "source": [
    "%load_ext autoreload\n",
    "%autoreload 2\n",
    "%matplotlib inline"
   ]
  },
  {
   "cell_type": "code",
   "execution_count": 2,
   "id": "9516138c-ac98-4ae7-90f5-3eaed7fb0705",
   "metadata": {
    "tags": []
   },
   "outputs": [],
   "source": [
    "import matplotlib.pyplot as plt\n",
    "import os\n",
    "import numpy as np\n",
    "import pandas as pd\n",
    "import seaborn as sns\n",
    "import glob\n",
    "from tqdm.auto import tqdm"
   ]
  },
  {
   "cell_type": "markdown",
   "id": "7674e015-e366-4168-9ce4-45ed22781d4b",
   "metadata": {},
   "source": [
    "# User functions"
   ]
  },
  {
   "cell_type": "code",
   "execution_count": 3,
   "id": "398000cc-1b37-4565-b17f-ef399dd383be",
   "metadata": {
    "tags": []
   },
   "outputs": [],
   "source": [
    "def snr(x):\n",
    "    return (\n",
    "        x.query(\"value == 'raw_baseline'\")[\"response\"].mean()\n",
    "        / x.query(\"value == 'background_smean_tmean'\")[\"response\"].iat[0]\n",
    "    )"
   ]
  },
  {
   "cell_type": "code",
   "execution_count": 4,
   "id": "ddcbea0a-9f9a-483c-8eae-548c164c5f53",
   "metadata": {},
   "outputs": [],
   "source": [
    "def get_outlier_rois(x, ref_field=\"response\", nmads=6, scaling=1.4825796886582654):\n",
    "    xhat = x.copy()\n",
    "    series = xhat.set_index(\"roi\")[ref_field]\n",
    "    dev = (series - series.median()).abs()\n",
    "    mad = dev.median()\n",
    "    mad *= scaling\n",
    "    outliers = dev[dev > mad * nmads].index\n",
    "    exclude_rois = outliers\n",
    "    return exclude_rois.tolist()"
   ]
  },
  {
   "cell_type": "code",
   "execution_count": 5,
   "id": "40102d6d-99de-4bac-903e-5803544eb291",
   "metadata": {},
   "outputs": [],
   "source": [
    "# setup_plotting_env()\n",
    "fig_dir = \"/storage/home/hcoda1/4/jmarkowitz30/shared_folder/active_lab_members/markowitz_jeffrey/panels/2025-05 (ScarCaMP paper)/\"\n",
    "os.makedirs(fig_dir, exist_ok=True)\n",
    "\n",
    "# path to aggregate_data\n",
    "merged_df = pd.read_parquet(\"/storage/home/hcoda1/4/jmarkowitz30/shared_folder/active_lab_members/markowitz_jeffrey/active_projects/red_calcium_screen/for_paper/invitro_results/aggregated_data_v2.parquet\")"
   ]
  },
  {
   "cell_type": "code",
   "execution_count": 6,
   "id": "f45e326c-a5d6-432b-916b-a67122bdac3e",
   "metadata": {
    "tags": []
   },
   "outputs": [],
   "source": [
    "val_types = merged_df.value.unique()\n",
    "val_types = [_ for _ in val_types if (\"whole\" in _) or (\"saturated\" in _)]"
   ]
  },
  {
   "cell_type": "code",
   "execution_count": 7,
   "id": "c85dbbc7-aca4-454a-aac0-3e6c33b308c8",
   "metadata": {
    "tags": []
   },
   "outputs": [],
   "source": [
    "aliases = {\n",
    "    \"jm34\": \"s3\",\n",
    "    \"jm35\": \"s3i\",\n",
    "}\n",
    "merged_df[\"well_sanitized\"] = merged_df[\"well_sanitized\"].replace(aliases)\n",
    "merged_df.loc[merged_df[\"well\"].str.contains(\"JM47\"), \"well_sanitized\"] = \"s3i-l01-069\""
   ]
  },
  {
   "cell_type": "code",
   "execution_count": 8,
   "id": "9ee8c6d1-dce8-4a73-80cc-7c1eedadbdf1",
   "metadata": {
    "tags": []
   },
   "outputs": [],
   "source": [
    "wells = merged_df[\"well_sanitized\"].sort_values().unique()"
   ]
  },
  {
   "cell_type": "code",
   "execution_count": 9,
   "id": "57c72f65-2e8e-42e1-ad35-60ee5f71cf69",
   "metadata": {
    "tags": []
   },
   "outputs": [],
   "source": [
    "# these had technical issues\n",
    "exclude_wells = [\n",
    "    \"s3-l01-021\",\n",
    "    \"s3-l01-048\",\n",
    "    \"s3i-l01-029\",\n",
    "    \"s3-l01-012\",\n",
    "    \"s3i-l01-042\",\n",
    "    \"s3i-l01-043\",\n",
    "    \"s3i-l01-044\",\n",
    "    \"s3i-l01-045\",\n",
    "    \"s3i-l01-046\",\n",
    "    \"s3i-l01-047\",\n",
    "    \"s3i-l01-048\",\n",
    "    \"no_plasmid\",\n",
    "]\n",
    "exclude_sessions = [\"2023-11-19\"]\n",
    "wells = [_well for _well in wells if _well not in exclude_wells]\n",
    "controls = [\"mscarlet3\"]\n",
    "sz_threshold = 10\n",
    "snr_threshold = 1.25"
   ]
  },
  {
   "cell_type": "code",
   "execution_count": 10,
   "id": "e51668bf-28d1-4a28-b326-96e1123fab18",
   "metadata": {},
   "outputs": [],
   "source": [
    "merged_df = merged_df.query(\"~session.str.contains('timecourse')\").copy()\n",
    "merged_df[\"session_date\"] = pd.to_datetime(merged_df[\"session\"])"
   ]
  },
  {
   "cell_type": "code",
   "execution_count": 11,
   "id": "eaef4fe4-18a2-445c-8a76-1c6455fc652e",
   "metadata": {},
   "outputs": [],
   "source": [
    "l3b_idx = merged_df[\"session_date\"] > pd.to_datetime(\"2024-09-10\")"
   ]
  },
  {
   "cell_type": "code",
   "execution_count": 12,
   "id": "63b0ccd3-07b9-4ddb-9260-05b85b617c42",
   "metadata": {},
   "outputs": [],
   "source": [
    "merged_df.loc[l3b_idx, \"well_sanitized\"] = merged_df.loc[l3b_idx, \"well_sanitized\"].str.replace(\"l03\", \"l03b\")"
   ]
  },
  {
   "cell_type": "code",
   "execution_count": 13,
   "id": "b9bb2c56-48e7-4de4-acba-784fec774c3d",
   "metadata": {
    "tags": []
   },
   "outputs": [
    {
     "name": "stderr",
     "output_type": "stream",
     "text": [
      "/tmp/ipykernel_3478034/2730422264.py:3: DeprecationWarning: DataFrameGroupBy.apply operated on the grouping columns. This behavior is deprecated, and in a future version of pandas the grouping columns will be excluded from the operation. Either pass `include_groups=False` to exclude the groupings or explicitly select the grouping columns after groupby to silence this warning.\n",
      "  snr_df = merged_df.groupby([\"session\", \"well_sanitized\"]).apply(snr).rename(\"snr\")\n"
     ]
    }
   ],
   "source": [
    "merged_df = merged_df.groupby(\"well_sanitized\").filter(lambda x: len(x) >= sz_threshold).copy()\n",
    "merged_df = merged_df.query(\"well_sanitized not in @exclude_wells and session not in @exclude_sessions\").copy()\n",
    "snr_df = merged_df.groupby([\"session\", \"well_sanitized\"]).apply(snr).rename(\"snr\")\n",
    "merged_df = pd.merge(merged_df, snr_df, on=[\"session\", \"well_sanitized\"])"
   ]
  },
  {
   "cell_type": "code",
   "execution_count": 14,
   "id": "8ecff7be-da9e-474b-ba3e-06ac895c5301",
   "metadata": {
    "tags": []
   },
   "outputs": [],
   "source": [
    "merged_df[\"well_sanitized_session\"] = merged_df[[\"well_sanitized\", \"session\"]].agg(\"_\".join, axis=1)"
   ]
  },
  {
   "cell_type": "code",
   "execution_count": 15,
   "id": "ec719c60-4d73-4aea-af67-ca05de286630",
   "metadata": {
    "tags": []
   },
   "outputs": [],
   "source": [
    "merged_df[\"is_jrcamp\"] = False\n",
    "merged_df.loc[merged_df[\"well_sanitized\"].isin([\"jrcamp1b\", \"jm27\"]), \"is_jrcamp\"] = True"
   ]
  },
  {
   "cell_type": "code",
   "execution_count": 16,
   "id": "5bf1b5d3-257c-4c8e-9b52-4dfa2ea6ca85",
   "metadata": {
    "tags": []
   },
   "outputs": [],
   "source": [
    "merged_df = merged_df.query(\"snr > @snr_threshold\").copy()"
   ]
  },
  {
   "cell_type": "code",
   "execution_count": 17,
   "id": "889bb95c-b2dd-44a3-956b-d9713c679cce",
   "metadata": {
    "tags": []
   },
   "outputs": [
    {
     "name": "stderr",
     "output_type": "stream",
     "text": [
      "/tmp/ipykernel_3478034/217970978.py:3: FutureWarning: A value is trying to be set on a copy of a DataFrame or Series through chained assignment using an inplace method.\n",
      "The behavior will change in pandas 3.0. This inplace method will never work because the intermediate object on which we are setting values always behaves as a copy.\n",
      "\n",
      "For example, when doing 'df[col].method(value, inplace=True)', try using 'df.method({col: value}, inplace=True)' or df[col] = df[col].method(value) instead, to perform the operation inplace on the original object.\n",
      "\n",
      "\n",
      "  merged_df[\"control_well\"].fillna(False, inplace=True)\n"
     ]
    }
   ],
   "source": [
    "merged_df[\"control_well\"] = False\n",
    "merged_df.loc[merged_df[\"well_sanitized\"].isin([\"mscarlet3\"]), \"control_well\"] = True\n",
    "merged_df[\"control_well\"].fillna(False, inplace=True)"
   ]
  },
  {
   "cell_type": "code",
   "execution_count": 18,
   "id": "ab937cd7-fcf8-43e9-95f5-42ebb020afce",
   "metadata": {},
   "outputs": [
    {
     "name": "stderr",
     "output_type": "stream",
     "text": [
      "/tmp/ipykernel_3478034/1296852641.py:2: FutureWarning: A value is trying to be set on a copy of a DataFrame or Series through chained assignment using an inplace method.\n",
      "The behavior will change in pandas 3.0. This inplace method will never work because the intermediate object on which we are setting values always behaves as a copy.\n",
      "\n",
      "For example, when doing 'df[col].method(value, inplace=True)', try using 'df.method({col: value}, inplace=True)' or df[col] = df[col].method(value) instead, to perform the operation inplace on the original object.\n",
      "\n",
      "\n",
      "  merged_df[\"is_scarcamp\"].fillna(False, inplace=True)\n",
      "/tmp/ipykernel_3478034/1296852641.py:2: FutureWarning: Downcasting object dtype arrays on .fillna, .ffill, .bfill is deprecated and will change in a future version. Call result.infer_objects(copy=False) instead. To opt-in to the future behavior, set `pd.set_option('future.no_silent_downcasting', True)`\n",
      "  merged_df[\"is_scarcamp\"].fillna(False, inplace=True)\n"
     ]
    }
   ],
   "source": [
    "merged_df.loc[merged_df[\"well_sanitized\"] == \"s3i-l01-069\", \"is_scarcamp\"] = True\n",
    "merged_df[\"is_scarcamp\"].fillna(False, inplace=True)"
   ]
  },
  {
   "cell_type": "code",
   "execution_count": 19,
   "id": "a2746a83-c010-473c-89ff-84e5f7ff44de",
   "metadata": {},
   "outputs": [],
   "source": [
    "exclude_rois = (\n",
    "    merged_df.query(\"value == 'raw_percent_iono_over_baseline'\")\n",
    "    .groupby([\"session\", \"well_sanitized\"])\n",
    "    .apply(get_outlier_rois, include_groups=False)\n",
    ")"
   ]
  },
  {
   "cell_type": "code",
   "execution_count": 20,
   "id": "c2292567-97df-468b-b3ef-9e49b0efe3a1",
   "metadata": {},
   "outputs": [
    {
     "name": "stderr",
     "output_type": "stream",
     "text": [
      "/tmp/ipykernel_3478034/440152919.py:1: DeprecationWarning: DataFrameGroupBy.apply operated on the grouping columns. This behavior is deprecated, and in a future version of pandas the grouping columns will be excluded from the operation. Either pass `include_groups=False` to exclude the groupings or explicitly select the grouping columns after groupby to silence this warning.\n",
      "  merged_df = merged_df.groupby([\"session\", \"well_sanitized\"], group_keys=False).apply(\n"
     ]
    }
   ],
   "source": [
    "merged_df = merged_df.groupby([\"session\", \"well_sanitized\"], group_keys=False).apply(\n",
    "    lambda x: x.loc[~x[\"roi\"].isin(exclude_rois.loc[x.name])]\n",
    ")"
   ]
  },
  {
   "cell_type": "code",
   "execution_count": 21,
   "id": "da81f02b-f497-47a4-b5a9-a4a319b9be36",
   "metadata": {},
   "outputs": [
    {
     "data": {
      "text/html": [
       "<div>\n",
       "<style scoped>\n",
       "    .dataframe tbody tr th:only-of-type {\n",
       "        vertical-align: middle;\n",
       "    }\n",
       "\n",
       "    .dataframe tbody tr th {\n",
       "        vertical-align: top;\n",
       "    }\n",
       "\n",
       "    .dataframe thead th {\n",
       "        text-align: right;\n",
       "    }\n",
       "</style>\n",
       "<table border=\"1\" class=\"dataframe\">\n",
       "  <thead>\n",
       "    <tr style=\"text-align: right;\">\n",
       "      <th></th>\n",
       "      <th>roi</th>\n",
       "      <th>response</th>\n",
       "      <th>value</th>\n",
       "      <th>frame</th>\n",
       "      <th>phase</th>\n",
       "      <th>filename</th>\n",
       "      <th>session</th>\n",
       "      <th>well</th>\n",
       "      <th>well_sanitized</th>\n",
       "      <th>session_date</th>\n",
       "      <th>snr</th>\n",
       "      <th>well_sanitized_session</th>\n",
       "      <th>is_jrcamp</th>\n",
       "      <th>control_well</th>\n",
       "      <th>is_scarcamp</th>\n",
       "    </tr>\n",
       "  </thead>\n",
       "  <tbody>\n",
       "    <tr>\n",
       "      <th>44496</th>\n",
       "      <td>0</td>\n",
       "      <td>24.515131</td>\n",
       "      <td>raw_percent_iono_over_baseline</td>\n",
       "      <td>NaN</td>\n",
       "      <td>None</td>\n",
       "      <td>/storage/home/hcoda1/4/jmarkowitz30/shared_fol...</td>\n",
       "      <td>2023-10-26</td>\n",
       "      <td>Plate1_E.2_JM28_jRCaMP1b_0.4ug_20X</td>\n",
       "      <td>jrcamp1b</td>\n",
       "      <td>2023-10-26</td>\n",
       "      <td>4.582537</td>\n",
       "      <td>jrcamp1b_2023-10-26</td>\n",
       "      <td>True</td>\n",
       "      <td>False</td>\n",
       "      <td>False</td>\n",
       "    </tr>\n",
       "    <tr>\n",
       "      <th>44497</th>\n",
       "      <td>1</td>\n",
       "      <td>54.191349</td>\n",
       "      <td>raw_percent_iono_over_baseline</td>\n",
       "      <td>NaN</td>\n",
       "      <td>None</td>\n",
       "      <td>/storage/home/hcoda1/4/jmarkowitz30/shared_fol...</td>\n",
       "      <td>2023-10-26</td>\n",
       "      <td>Plate1_E.2_JM28_jRCaMP1b_0.4ug_20X</td>\n",
       "      <td>jrcamp1b</td>\n",
       "      <td>2023-10-26</td>\n",
       "      <td>4.582537</td>\n",
       "      <td>jrcamp1b_2023-10-26</td>\n",
       "      <td>True</td>\n",
       "      <td>False</td>\n",
       "      <td>False</td>\n",
       "    </tr>\n",
       "    <tr>\n",
       "      <th>44498</th>\n",
       "      <td>2</td>\n",
       "      <td>2.515382</td>\n",
       "      <td>raw_percent_iono_over_baseline</td>\n",
       "      <td>NaN</td>\n",
       "      <td>None</td>\n",
       "      <td>/storage/home/hcoda1/4/jmarkowitz30/shared_fol...</td>\n",
       "      <td>2023-10-26</td>\n",
       "      <td>Plate1_E.2_JM28_jRCaMP1b_0.4ug_20X</td>\n",
       "      <td>jrcamp1b</td>\n",
       "      <td>2023-10-26</td>\n",
       "      <td>4.582537</td>\n",
       "      <td>jrcamp1b_2023-10-26</td>\n",
       "      <td>True</td>\n",
       "      <td>False</td>\n",
       "      <td>False</td>\n",
       "    </tr>\n",
       "    <tr>\n",
       "      <th>44499</th>\n",
       "      <td>3</td>\n",
       "      <td>47.624470</td>\n",
       "      <td>raw_percent_iono_over_baseline</td>\n",
       "      <td>NaN</td>\n",
       "      <td>None</td>\n",
       "      <td>/storage/home/hcoda1/4/jmarkowitz30/shared_fol...</td>\n",
       "      <td>2023-10-26</td>\n",
       "      <td>Plate1_E.2_JM28_jRCaMP1b_0.4ug_20X</td>\n",
       "      <td>jrcamp1b</td>\n",
       "      <td>2023-10-26</td>\n",
       "      <td>4.582537</td>\n",
       "      <td>jrcamp1b_2023-10-26</td>\n",
       "      <td>True</td>\n",
       "      <td>False</td>\n",
       "      <td>False</td>\n",
       "    </tr>\n",
       "    <tr>\n",
       "      <th>44500</th>\n",
       "      <td>4</td>\n",
       "      <td>42.699772</td>\n",
       "      <td>raw_percent_iono_over_baseline</td>\n",
       "      <td>NaN</td>\n",
       "      <td>None</td>\n",
       "      <td>/storage/home/hcoda1/4/jmarkowitz30/shared_fol...</td>\n",
       "      <td>2023-10-26</td>\n",
       "      <td>Plate1_E.2_JM28_jRCaMP1b_0.4ug_20X</td>\n",
       "      <td>jrcamp1b</td>\n",
       "      <td>2023-10-26</td>\n",
       "      <td>4.582537</td>\n",
       "      <td>jrcamp1b_2023-10-26</td>\n",
       "      <td>True</td>\n",
       "      <td>False</td>\n",
       "      <td>False</td>\n",
       "    </tr>\n",
       "  </tbody>\n",
       "</table>\n",
       "</div>"
      ],
      "text/plain": [
       "       roi   response                           value  frame phase  \\\n",
       "44496    0  24.515131  raw_percent_iono_over_baseline    NaN  None   \n",
       "44497    1  54.191349  raw_percent_iono_over_baseline    NaN  None   \n",
       "44498    2   2.515382  raw_percent_iono_over_baseline    NaN  None   \n",
       "44499    3  47.624470  raw_percent_iono_over_baseline    NaN  None   \n",
       "44500    4  42.699772  raw_percent_iono_over_baseline    NaN  None   \n",
       "\n",
       "                                                filename     session  \\\n",
       "44496  /storage/home/hcoda1/4/jmarkowitz30/shared_fol...  2023-10-26   \n",
       "44497  /storage/home/hcoda1/4/jmarkowitz30/shared_fol...  2023-10-26   \n",
       "44498  /storage/home/hcoda1/4/jmarkowitz30/shared_fol...  2023-10-26   \n",
       "44499  /storage/home/hcoda1/4/jmarkowitz30/shared_fol...  2023-10-26   \n",
       "44500  /storage/home/hcoda1/4/jmarkowitz30/shared_fol...  2023-10-26   \n",
       "\n",
       "                                     well well_sanitized session_date  \\\n",
       "44496  Plate1_E.2_JM28_jRCaMP1b_0.4ug_20X       jrcamp1b   2023-10-26   \n",
       "44497  Plate1_E.2_JM28_jRCaMP1b_0.4ug_20X       jrcamp1b   2023-10-26   \n",
       "44498  Plate1_E.2_JM28_jRCaMP1b_0.4ug_20X       jrcamp1b   2023-10-26   \n",
       "44499  Plate1_E.2_JM28_jRCaMP1b_0.4ug_20X       jrcamp1b   2023-10-26   \n",
       "44500  Plate1_E.2_JM28_jRCaMP1b_0.4ug_20X       jrcamp1b   2023-10-26   \n",
       "\n",
       "            snr well_sanitized_session  is_jrcamp  control_well  is_scarcamp  \n",
       "44496  4.582537    jrcamp1b_2023-10-26       True         False        False  \n",
       "44497  4.582537    jrcamp1b_2023-10-26       True         False        False  \n",
       "44498  4.582537    jrcamp1b_2023-10-26       True         False        False  \n",
       "44499  4.582537    jrcamp1b_2023-10-26       True         False        False  \n",
       "44500  4.582537    jrcamp1b_2023-10-26       True         False        False  "
      ]
     },
     "execution_count": 21,
     "metadata": {},
     "output_type": "execute_result"
    }
   ],
   "source": [
    "merged_df.head()"
   ]
  },
  {
   "cell_type": "markdown",
   "id": "904bbad5-d679-4c53-888a-a743ff45f2f2",
   "metadata": {},
   "source": [
    "# Sort by different qualities, then print out rankings..."
   ]
  },
  {
   "cell_type": "code",
   "execution_count": 22,
   "id": "9d9cf85f-0751-4614-9871-6bc9c47b16c3",
   "metadata": {
    "tags": []
   },
   "outputs": [],
   "source": [
    "signal_col = \"ratio_percent_iono_over_baseline\"\n",
    "baseline_col = \"raw_baseline\"\n",
    "filter_col = signal_col"
   ]
  },
  {
   "cell_type": "code",
   "execution_count": 23,
   "id": "55c1bbe1-48d4-4782-a97d-258d67f21f1e",
   "metadata": {},
   "outputs": [],
   "source": [
    "plt_df2 = merged_df.query(\"~well_sanitized_session.str.contains('l02')\").copy()"
   ]
  },
  {
   "cell_type": "code",
   "execution_count": 24,
   "id": "8e70b4b2-7d8f-4cb7-b9c8-53e58e52fcad",
   "metadata": {},
   "outputs": [],
   "source": [
    "# merged_df[\"value\"].unique()"
   ]
  },
  {
   "cell_type": "code",
   "execution_count": 25,
   "id": "12c49c71-991d-447a-b9e6-ea49777e0146",
   "metadata": {},
   "outputs": [],
   "source": [
    "col_rename = {0: \"parent\", 1: \"library_number\", 2: \"variant_number\"}\n",
    "\n",
    "# parent, library number, variant\n",
    "well_properties = (\n",
    "    plt_df2[\"well_sanitized\"]\n",
    "    .str.extract(\"([a-z|0-9]+)-([a-z|0-9]+)-([a-z|0-9]+)\")\n",
    "    .apply(pd.Series)\n",
    "    .rename(columns=col_rename)\n",
    ")\n",
    "\n",
    "try:\n",
    "    plt_df2 = plt_df2.join(well_properties)\n",
    "except ValueError:\n",
    "    plt_df2 = plt_df2.drop(well_properties.columns, axis=1).join(well_properties)\n",
    "\n",
    "plt_df2 = plt_df2.dropna(subset=well_properties.columns)\n",
    "plt_df2[\"well_sanitized2\"] = plt_df2[well_properties.columns].agg(\"-\".join, axis=1)"
   ]
  },
  {
   "cell_type": "code",
   "execution_count": 26,
   "id": "e5e3342c-d487-4f1c-8418-8085166101ae",
   "metadata": {},
   "outputs": [],
   "source": [
    "best_sessions = (\n",
    "    plt_df2.query(\"value == @filter_col\")\n",
    "    .groupby([\"well_sanitized\", \"well_sanitized_session\"])[\"response\"]\n",
    "    .apply(lambda x: x.abs().mean())\n",
    "    .groupby(\"well_sanitized\")\n",
    "    .idxmax()\n",
    ")\n",
    "best_sessions = [_[1] for _ in best_sessions.tolist()]\n",
    "plt_df2 = plt_df2.query(\"well_sanitized_session.isin(@best_sessions)\")"
   ]
  },
  {
   "cell_type": "code",
   "execution_count": 28,
   "id": "d8c09ae2-765e-4df0-8b99-e72d5cac4605",
   "metadata": {
    "tags": []
   },
   "outputs": [],
   "source": [
    "dff0_sorted_wells = list(\n",
    "    plt_df2.query(\"value == @signal_col\")\n",
    "    .groupby([\"well_sanitized2\", \"value\"])[\"response\"]\n",
    "    .median()\n",
    "    .sort_values()\n",
    "    .index\n",
    ")\n",
    "\n",
    "dff0_sorted_wells = [_[0] for _ in dff0_sorted_wells]\n",
    "dff0_sorted_wells = [_ for _ in dff0_sorted_wells if (_ not in controls) and (_ not in exclude_wells)]\n",
    "dff0_sorting_color = {_well: _idx for _idx, _well in enumerate(dff0_sorted_wells)}\n",
    "plt_df2[\"dff0_sorted_well_color\"] = plt_df2[\"well_sanitized2\"].map(dff0_sorting_color)\n",
    "include_wells = list(plt_df2[\"well_sanitized2\"].unique())\n",
    "well_order = [_ for _ in dff0_sorted_wells if \"jrcamp\" not in _.lower() and _ in include_wells]"
   ]
  },
  {
   "cell_type": "code",
   "execution_count": 29,
   "id": "e9957e4d-b2d5-4c44-8ece-ea20c45d635e",
   "metadata": {},
   "outputs": [],
   "source": [
    "boxplot_props = {\n",
    "    \"boxprops\": {\"edgecolor\": \"none\"},\n",
    "    \"medianprops\": {\"color\": \"m\"},\n",
    "    \"whiskerprops\": {\"color\": [0.45, 0.45, 0.45]},\n",
    "    # \"capprops\": {\"color\": \"magenta\"},\n",
    "}"
   ]
  },
  {
   "cell_type": "code",
   "execution_count": 30,
   "id": "b3b5592e-b80c-4d9c-8891-2383e8f542ea",
   "metadata": {},
   "outputs": [],
   "source": [
    "from calcium_imaging_analysis.fig import setup_plotting_env"
   ]
  },
  {
   "cell_type": "code",
   "execution_count": 31,
   "id": "b33f0687-1b76-479d-b809-cae707e5a241",
   "metadata": {},
   "outputs": [],
   "source": [
    "setup_plotting_env()"
   ]
  },
  {
   "cell_type": "code",
   "execution_count": 32,
   "id": "615d0a6e-2783-4578-817f-295fd41a3c75",
   "metadata": {},
   "outputs": [],
   "source": [
    "variances = plt_df2.query(\"value==@signal_col\").groupby(\"well_sanitized2\")[\"response\"].std()\n",
    "high_variance = variances[variances > 10].index.tolist()"
   ]
  },
  {
   "cell_type": "code",
   "execution_count": 33,
   "id": "3e0716e9-faec-48e1-bff0-88bd5c2da454",
   "metadata": {},
   "outputs": [],
   "source": [
    "scale_bars_y = {\n",
    "    signal_col: 5,\n",
    "    baseline_col: 200,\n",
    "}\n",
    "scale_bar_x = 30"
   ]
  },
  {
   "cell_type": "code",
   "execution_count": 34,
   "id": "f32ddee4-7ec2-4a59-b067-ede32241ef2f",
   "metadata": {},
   "outputs": [],
   "source": [
    "colors = sns.color_palette(\"tab20\")"
   ]
  },
  {
   "cell_type": "code",
   "execution_count": 36,
   "id": "d616f48a-bbb3-428f-b887-7ee9d750e0d5",
   "metadata": {},
   "outputs": [],
   "source": [
    "true_color = colors[6]\n",
    "false_color = colors[0]\n",
    "\n",
    "dist_to_white = np.array([1, 1, 1]) - np.array(false_color)\n",
    "new_rgb = np.array(false_color) + 0.2 * dist_to_white\n",
    "\n",
    "palette = {\n",
    "    True: true_color,\n",
    "    False: new_rgb,\n",
    "}"
   ]
  },
  {
   "cell_type": "code",
   "execution_count": 37,
   "id": "ee3851ca-af14-4083-bd69-9153d0450d43",
   "metadata": {},
   "outputs": [],
   "source": [
    "use_scalebars = True"
   ]
  },
  {
   "cell_type": "code",
   "execution_count": 38,
   "id": "1e3a4245-72c9-4bd7-91af-3e90626bbbd3",
   "metadata": {},
   "outputs": [
    {
     "data": {
      "image/png": "[encoded data removed]",
      "text/plain": [
       "<Figure size 1155x600 with 2 Axes>"
      ]
     },
     "metadata": {},
     "output_type": "display_data"
    }
   ],
   "source": [
    "g = sns.catplot(\n",
    "    data=plt_df2,\n",
    "    x=\"well_sanitized2\",\n",
    "    y=\"response\",\n",
    "    kind=\"point\",\n",
    "    row=\"value\",\n",
    "    estimator=\"median\",\n",
    "    errorbar=(\"ci\", 95),\n",
    "    row_order=[signal_col, baseline_col],\n",
    "    sharey=False,\n",
    "    sharex=True,\n",
    "    order=well_order,\n",
    "    palette=palette,\n",
    "    aspect=3.85,\n",
    "    height=1.5,\n",
    "    linewidth=0.55,\n",
    "    markersize=1.15,\n",
    "    hue=\"is_scarcamp\",\n",
    "    dodge=False,\n",
    "    linestyle=\"none\",\n",
    "    legend=False,\n",
    ")\n",
    "g.set(\n",
    "    xlabel=\"\",\n",
    "    ylabel=\"Percent dF/F0\",\n",
    "    xticks=[0, len(well_order)],\n",
    "    xticklabels=[0, len(well_order)],\n",
    "    xlim=(-0.5, len(well_order) + 0.5),\n",
    ")\n",
    "g.set_titles(row_template=\"{row_name}\", col_template=\"{col_name}\")\n",
    "g.axes[0][0].axhline(y=0, color=\"k\", alpha=0.4, zorder=-300)\n",
    "g.axes[1][0].set_ylabel(\"Pixel value\")\n",
    "g.axes[1][0].set_ylim(0, 1500)\n",
    "g.axes[1][0].set_yticks((0, 1500))\n",
    "sns.despine(offset=5, trim=True)\n",
    "\n",
    "if use_scalebars:\n",
    "    for _ax, _col in zip(g.axes.ravel(), [signal_col, baseline_col]):\n",
    "        _ax.axis(\"off\")\n",
    "        ylims = _ax.get_ylim()\n",
    "        xlims = _ax.get_xlim()\n",
    "        xrange = xlims[1] - xlims[0]\n",
    "        yrange = ylims[1] - ylims[0]\n",
    "        xpos = xlims[0] - xrange / 100\n",
    "        ypos = ylims[0] - yrange / 20\n",
    "        _ax.plot([xpos, xpos], [ypos, ypos + scale_bars_y[_col]], \"k-\", clip_on=False, solid_capstyle=\"butt\")\n",
    "    _ax.plot([xpos, xpos + scale_bar_x], [ypos, ypos], \"k-\", clip_on=False, solid_capstyle=\"butt\")\n",
    "\n",
    "# if we just want to show a scale bar, chop out the axes and add them!\n",
    "\n",
    "# g.fig.tight_layout()\n",
    "if use_scalebars:\n",
    "    g.fig.savefig(\n",
    "        os.path.join(fig_dir, f\"library_plots-y-{scale_bars_y}-x-{scale_bar_x}.pdf\"), dpi=600, bbox_inches=\"tight\"\n",
    "    )\n",
    "else:\n",
    "    g.fig.savefig(os.path.join(fig_dir, f\"library_plots.pdf\"), dpi=600, bbox_inches=\"tight\")"
   ]
  },
  {
   "cell_type": "code",
   "execution_count": null,
   "id": "147c630d-5375-4dd0-975d-9502adac8463",
   "metadata": {},
   "outputs": [],
   "source": []
  }
 ],
 "metadata": {
  "kernelspec": {
   "display_name": "Python 3 (ipykernel)",
   "language": "python",
   "name": "python3"
  },
  "language_info": {
   "codemirror_mode": {
    "name": "ipython",
    "version": 3
   },
   "file_extension": ".py",
   "mimetype": "text/x-python",
   "name": "python",
   "nbconvert_exporter": "python",
   "pygments_lexer": "ipython3",
   "version": "3.10.0"
  }
 },
 "nbformat": 4,
 "nbformat_minor": 5
}
